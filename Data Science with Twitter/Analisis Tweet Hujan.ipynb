{
 "cells": [
  {
   "cell_type": "code",
   "execution_count": 25,
   "metadata": {
    "collapsed": true
   },
   "outputs": [],
   "source": [
    "import json\n",
    "import string\n",
    "from Sastrawi.Stemmer.StemmerFactory import StemmerFactory\n",
    "import re\n",
    "\n",
    "import pandas as pd\n",
    "import numpy as np\n",
    "import matplotlib.pyplot as plt\n",
    "import seaborn as sns\n",
    "%matplotlib inline\n",
    "plt.style.use('ggplot')"
   ]
  },
  {
   "cell_type": "code",
   "execution_count": 2,
   "metadata": {},
   "outputs": [
    {
     "data": {
      "text/plain": [
       "dict_keys(['created_at', 'id', 'id_str', 'text', 'source', 'truncated', 'in_reply_to_status_id', 'in_reply_to_status_id_str', 'in_reply_to_user_id', 'in_reply_to_user_id_str', 'in_reply_to_screen_name', 'user', 'geo', 'coordinates', 'place', 'contributors', 'retweeted_status', 'is_quote_status', 'quote_count', 'reply_count', 'retweet_count', 'favorite_count', 'entities', 'favorited', 'retweeted', 'filter_level', 'lang', 'timestamp_ms'])"
      ]
     },
     "execution_count": 2,
     "metadata": {},
     "output_type": "execute_result"
    }
   ],
   "source": [
    "tweets_data = []\n",
    "\n",
    "with open('tweets2018-01-14_hujan.txt','r') as file:\n",
    "    for line in file:\n",
    "        tweet = json.loads(line)\n",
    "        tweets_data.append(tweet)\n",
    "\n",
    "tweets_data[0].keys()"
   ]
  },
  {
   "cell_type": "code",
   "execution_count": 24,
   "metadata": {
    "collapsed": true
   },
   "outputs": [],
   "source": [
    "df = pd.DataFrame(tweets_data, columns=['text','lang'])"
   ]
  },
  {
   "cell_type": "code",
   "execution_count": 80,
   "metadata": {},
   "outputs": [],
   "source": [
    "pattern = re.compile('\\@\\S+\\:')\n",
    "\n",
    "def process_text(text):\n",
    "    '''\n",
    "    What will be covered:\n",
    "    1. Remove 'RT', '\\n'\n",
    "    2. Remove Username\n",
    "    3. Remove punctuation\n",
    "    4. Stem the words\n",
    "    5. Remove stopwords\n",
    "    6. Return list of clean text words\n",
    "    '''\n",
    "    \n",
    "    #1\n",
    "    text = text.replace('RT ','')\n",
    "    text = text.replace('\\n',' ')\n",
    "    \n",
    "    #2\n",
    "    text = [word for word in text.split() if bool(pattern.match(word))==False]   \n",
    "    \n",
    "    #3\n",
    "    \n",
    "    \n",
    "    #4\n",
    "    \n",
    "    \n",
    "    #5\n",
    "    \n",
    "    \n",
    "    #6\n",
    "    return text"
   ]
  },
  {
   "cell_type": "code",
   "execution_count": 33,
   "metadata": {},
   "outputs": [
    {
     "data": {
      "text/plain": [
       "'RT @LawakkHambar: Gaji RM1k sebulan rezeki.\\nDapat berlindung dari hujan dan panas rezeki.\\nKeluarga sihat rezeki.\\nKenderaan tak rosak rezeki…'"
      ]
     },
     "execution_count": 33,
     "metadata": {},
     "output_type": "execute_result"
    }
   ],
   "source": [
    "df.iloc[1500,0]"
   ]
  },
  {
   "cell_type": "code",
   "execution_count": 79,
   "metadata": {},
   "outputs": [
    {
     "data": {
      "text/plain": [
       "['Gaji',\n",
       " 'RM1k',\n",
       " 'sebulan',\n",
       " 'rezeki.',\n",
       " 'Dapat',\n",
       " 'berlindung',\n",
       " 'dari',\n",
       " 'hujan',\n",
       " 'dan',\n",
       " 'panas',\n",
       " 'rezeki.',\n",
       " 'Keluarga',\n",
       " 'sihat',\n",
       " 'rezeki.',\n",
       " 'Kenderaan',\n",
       " 'tak',\n",
       " 'rosak',\n",
       " 'rezeki…']"
      ]
     },
     "execution_count": 79,
     "metadata": {},
     "output_type": "execute_result"
    }
   ],
   "source": [
    "process_text(df.iloc[1500,0])"
   ]
  },
  {
   "cell_type": "code",
   "execution_count": null,
   "metadata": {
    "collapsed": true
   },
   "outputs": [],
   "source": []
  }
 ],
 "metadata": {
  "kernelspec": {
   "display_name": "Python 3",
   "language": "python",
   "name": "python3"
  },
  "language_info": {
   "codemirror_mode": {
    "name": "ipython",
    "version": 3
   },
   "file_extension": ".py",
   "mimetype": "text/x-python",
   "name": "python",
   "nbconvert_exporter": "python",
   "pygments_lexer": "ipython3",
   "version": "3.6.3"
  }
 },
 "nbformat": 4,
 "nbformat_minor": 2
}
